{
 "cells": [
  {
   "cell_type": "markdown",
   "id": "0dd857b5",
   "metadata": {},
   "source": [
    "# Day 27: AI-Powered Service Ownership Mapper\n",
    "\n",
    "Automatically infer service ownership using commit, alert, and ticket data. Generate service catalog entries with ML and LLM."
   ]
  },
  {
   "cell_type": "code",
   "execution_count": 13,
   "id": "aa43da71",
   "metadata": {},
   "outputs": [
    {
     "name": "stderr",
     "output_type": "stream",
     "text": [
      "c:\\Users\\behip\\Documents\\Work\\IT\\30-Days-of-AI-in-Devops-SRE-Challenge-\\.venv\\Lib\\site-packages\\sklearn\\manifold\\_spectral_embedding.py:370: RuntimeWarning: k >= N for N * N square matrix. Attempting to use scipy.linalg.eigh instead.\n",
      "  _, diffusion_map = eigsh(\n"
     ]
    },
    {
     "data": {
      "text/markdown": [
       "---\n",
       "Here is the formatted service catalog entry:\n",
       "\n",
       "Service: auth-service\n",
       "\n",
       "Main owner: alice\n",
       "\n",
       "Recent contributors: bob\n",
       "\n",
       "Cluster group: 2\n",
       "\n",
       "Summary:\n",
       "The auth-service plays a critical role in securing access to our cluster's resources and services. As the primary authentication mechanism, it ensures that only authorized users can interact with other services, such as data-store and application-services. By providing robust identity management and access control, auth-service enables secure communication between services and protects sensitive data.\n"
      ],
      "text/plain": [
       "<IPython.core.display.Markdown object>"
      ]
     },
     "metadata": {},
     "output_type": "display_data"
    },
    {
     "data": {
      "text/markdown": [
       "---\n",
       "Here is the formatted service catalog entry:\n",
       "\n",
       "Service: order-service\n",
       "\n",
       "Main owner: dave\n",
       "\n",
       "Recent contributors: carol\n",
       "\n",
       "Cluster group: 1\n",
       "\n",
       "Summary:\n",
       "The order-service enables customers to place and manage orders within our e-commerce platform. It interacts with other services in the cluster, such as the product-service and inventory-service, to ensure accurate tracking of stock levels and availability. By providing a seamless ordering experience, this service plays a critical role in driving revenue growth and customer satisfaction across the organization.\n"
      ],
      "text/plain": [
       "<IPython.core.display.Markdown object>"
      ]
     },
     "metadata": {},
     "output_type": "display_data"
    },
    {
     "data": {
      "text/markdown": [
       "---\n",
       "Here is the formatted entry:\n",
       "\n",
       "Service: payment-service\n",
       "\n",
       "Main owner: carol\n",
       "\n",
       "Recent contributors: alice\n",
       "\n",
       "Cluster group: 0\n",
       "\n",
       "Summary:\n",
       "The payment-service enables secure and reliable financial transactions within our distributed system. As a critical component of our cluster's infrastructure, it facilitates seamless communication between various services, ensuring that payments are processed efficiently and accurately. By maintaining this service, we ensure the integrity of our system and provide a solid foundation for our users' financial interactions.\n"
      ],
      "text/plain": [
       "<IPython.core.display.Markdown object>"
      ]
     },
     "metadata": {},
     "output_type": "display_data"
    }
   ],
   "source": [
    "# 📦 Import libraries\n",
    "import pandas as pd\n",
    "import numpy as np\n",
    "import requests\n",
    "from collections import defaultdict, Counter\n",
    "from sklearn.metrics.pairwise import cosine_distances\n",
    "from sklearn.cluster import SpectralClustering\n",
    "from IPython.display import display, Markdown\n",
    "\n",
    "# 📁 Load sample data\n",
    "commits = pd.read_csv('commits.csv')\n",
    "alerts = pd.read_csv('alerts.csv')\n",
    "tickets = pd.read_csv('tickets.csv')\n",
    "\n",
    "# 🧼 Normalize contributor and service names\n",
    "def normalize(df, col):\n",
    "    df[col] = df[col].fillna('Unknown').str.strip().str.lower()\n",
    "    return df\n",
    "\n",
    "for df, col in [(commits, 'author'), (alerts, 'responder'), (tickets, 'assignee')]:\n",
    "    normalize(df, col)\n",
    "\n",
    "for df in [commits, alerts, tickets]:\n",
    "    normalize(df, 'service')\n",
    "\n",
    "# 🧮 Create binary matrix: services × contributors\n",
    "all_people = set(commits['author']).union(alerts['responder']).union(tickets['assignee'])\n",
    "service_list = sorted(commits['service'].unique())\n",
    "people_list = sorted(all_people)\n",
    "\n",
    "service_matrix = np.array([\n",
    "    [\n",
    "        int(\n",
    "            person in commits[commits['service'] == service]['author'].values or\n",
    "            person in alerts[alerts['service'] == service]['responder'].values or\n",
    "            person in tickets[tickets['service'] == service]['assignee'].values\n",
    "        )\n",
    "        for person in people_list\n",
    "    ]\n",
    "    for service in service_list\n",
    "])\n",
    "\n",
    "# 🔗 Cluster services by contributor similarity using cosine distance\n",
    "distance_matrix = cosine_distances(service_matrix)\n",
    "clustering = SpectralClustering(n_clusters=3, affinity='precomputed')\n",
    "labels = clustering.fit_predict(distance_matrix)\n",
    "service_clusters = {service: label for service, label in zip(service_list, labels)}\n",
    "\n",
    "# 🧠 Infer ownership using weighted contribution scores\n",
    "ownership_catalog = {}\n",
    "for service in service_list:\n",
    "    scores = defaultdict(int)\n",
    "    for author in commits[commits['service'] == service]['author']:\n",
    "        scores[author] += 1\n",
    "    for responder in alerts[alerts['service'] == service]['responder']:\n",
    "        scores[responder] += 3  # alerts = higher operational weight\n",
    "    for assignee in tickets[tickets['service'] == service]['assignee']:\n",
    "        scores[assignee] += 2\n",
    "    if scores:\n",
    "        main_owner = max(scores, key=scores.get)\n",
    "        recent_changes = sorted(set(scores.keys()) - {main_owner})\n",
    "    else:\n",
    "        main_owner = 'unknown'\n",
    "        recent_changes = []\n",
    "    ownership_catalog[service] = {\n",
    "        'main_owner': main_owner,\n",
    "        'recent_changes': recent_changes,\n",
    "        'cluster': service_clusters[service]\n",
    "    }\n",
    "\n",
    "# 🧠 Generate catalog entry using LLM (Ollama Llama 3)\n",
    "def llm_catalog_entry(service, main_owner, recent_changes, cluster, purpose=None):\n",
    "    prompt = (\n",
    "    f\"Service Name: {service}\\n\"\n",
    "    f\"Maintainer: {main_owner}\\n\"\n",
    "    f\"Recent Contributors: {', '.join(recent_changes) if recent_changes else 'None'}\\n\"\n",
    "    f\"Cluster Group: {cluster}\\n\\n\"\n",
    "    f\"Format the above service catalog entry using this exact structure:\\n\\n\"\n",
    "    f\"Service: {service}\\n\\n\"\n",
    "    f\"Main owner: {main_owner}\\n\\n\"\n",
    "    f\"Recent contributors: {', '.join(recent_changes) if recent_changes else 'None'}\\n\\n\"\n",
    "    f\"Cluster group: {cluster}\\n\\n\"\n",
    "    f\"Summary:\\n\"\n",
    "    f\"<One paragraph describing the service's role and its relationship to other services in the cluster. Avoid generic praise or repetition. Use factual, stakeholder-friendly language.>\\n\\n\"\n",
    ")\n",
    "    try:\n",
    "        response = requests.post(\n",
    "            \"http://localhost:11434/api/generate\",\n",
    "            json={\"model\": \"llama3\", \"prompt\": prompt, \"stream\": False}\n",
    "        )\n",
    "        return response.json().get(\"response\", \"LLM failed to respond.\")\n",
    "    except Exception as e:\n",
    "        return f\"LLM error: {str(e)}\"\n",
    "\n",
    "# 📊 Display catalog entries in Markdown\n",
    "for service, info in ownership_catalog.items():\n",
    "    entry = llm_catalog_entry(service, info['main_owner'], info['recent_changes'], info['cluster'])\n",
    "    md = (\n",
    "        f\"---\\n\"\n",
    "        f\"{entry}\\n\"\n",
    "    )\n",
    "    display(Markdown(md))"
   ]
  }
 ],
 "metadata": {
  "kernelspec": {
   "display_name": ".venv",
   "language": "python",
   "name": "python3"
  },
  "language_info": {
   "codemirror_mode": {
    "name": "ipython",
    "version": 3
   },
   "file_extension": ".py",
   "mimetype": "text/x-python",
   "name": "python",
   "nbconvert_exporter": "python",
   "pygments_lexer": "ipython3",
   "version": "3.12.2"
  }
 },
 "nbformat": 4,
 "nbformat_minor": 5
}
