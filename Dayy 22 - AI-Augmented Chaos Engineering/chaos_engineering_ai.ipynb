{
 "cells": [
  {
   "cell_type": "markdown",
   "id": "f799fe30",
   "metadata": {},
   "source": [
    "# Day 22: AI-Augmented Chaos Engineering\n",
    "\n",
    "Use AI to design chaos experiments that target weak spots in your system.\n",
    "\n",
    "**Goal:**\n",
    "- Feed system topology and past incident data into an LLM.\n",
    "- Ask it to propose chaos scenarios (e.g., kill DB node, throttle API)."
   ]
  },
  {
   "cell_type": "code",
   "execution_count": 45,
   "id": "9e7ef367",
   "metadata": {},
   "outputs": [],
   "source": [
    "# Install required libraries\n",
    "!pip install requests --quiet"
   ]
  },
  {
   "cell_type": "code",
   "execution_count": 46,
   "id": "47bae9a0",
   "metadata": {},
   "outputs": [],
   "source": [
    "# Import libraries\n",
    "import requests\n",
    "import json"
   ]
  },
  {
   "cell_type": "code",
   "execution_count": 47,
   "id": "a6716e19",
   "metadata": {},
   "outputs": [
    {
     "name": "stdout",
     "output_type": "stream",
     "text": [
      "File(s) not found. Please provide valid paths to your system topology and incident data files.\n",
      "Using example data.\n"
     ]
    }
   ],
   "source": [
    "# Load system topology and incident data dynamically from JSON/YAML files\n",
    "import json\n",
    "import yaml\n",
    "\n",
    "def load_json_or_yaml(filepath):\n",
    "    if filepath.endswith('.json'):\n",
    "        with open(filepath, 'r') as f:\n",
    "            return json.load(f)\n",
    "    elif filepath.endswith('.yaml') or filepath.endswith('.yml'):\n",
    "        with open(filepath, 'r') as f:\n",
    "            return yaml.safe_load(f)\n",
    "    else:\n",
    "        raise ValueError(\"Unsupported file format. Use .json or .yaml\")\n",
    "\n",
    "# Prompt user for file paths or use defaults\n",
    "import os\n",
    "\n",
    "system_topology_path = input(\"Enter path to system topology file (JSON/YAML): \").strip() or \"system_topology.json\"\n",
    "past_incidents_path = input(\"Enter path to past incidents file (JSON/YAML): \").strip() or \"past_incidents.json\"\n",
    "\n",
    "if os.path.exists(system_topology_path) and os.path.exists(past_incidents_path):\n",
    "    system_topology = load_json_or_yaml(system_topology_path)\n",
    "    past_incidents = load_json_or_yaml(past_incidents_path)\n",
    "    print(\"Loaded system topology and past incidents from files.\")\n",
    "else:\n",
    "    print(\"File(s) not found. Please provide valid paths to your system topology and incident data files.\")\n",
    "    # Optionally, exit or fall back to hardcoded example\n",
    "    system_topology = {\n",
    "        'services': ['web', 'api', 'db', 'cache'],\n",
    "        'dependencies': {\n",
    "            'web': ['api'],\n",
    "            'api': ['db', 'cache'],\n",
    "            'db': [],\n",
    "            'cache': []\n",
    "        },\n",
    "        'nodes': {\n",
    "            'web': 2,\n",
    "            'api': 2,\n",
    "            'db': 1,\n",
    "            'cache': 1\n",
    "        }\n",
    "    }\n",
    "    past_incidents = [\n",
    "        {'service': 'db', 'type': 'outage', 'impact': 'high', 'description': 'Primary DB node failure caused downtime.'},\n",
    "        {'service': 'api', 'type': 'latency', 'impact': 'medium', 'description': 'API latency spike during cache miss.'},\n",
    "        {'service': 'web', 'type': 'error', 'impact': 'low', 'description': 'Web service returned 502 due to API timeout.'}\n",
    "    ]\n",
    "    print(\"Using example data.\")"
   ]
  },
  {
   "cell_type": "code",
   "execution_count": 48,
   "id": "8d9c57d5",
   "metadata": {},
   "outputs": [],
   "source": [
    "import requests\n",
    "import json\n",
    "\n",
    "prompt = (\n",
    "    \"You are a chaos engineering expert. Given the following system topology and past incident data, \"\n",
    "    \"propose a set of chaos experiments that would target the system's weak spots. \"\n",
    "    \"List 3-5 chaos scenarios in markdown table format with columns: Experiment, Target, Action, Expected Outcome.\\n\\n\"\n",
    "    f\"System topology:\\n{json.dumps(system_topology, indent=2)}\\n\\n\"\n",
    "    f\"Past incidents:\\n{json.dumps(past_incidents, indent=2)}\"\n",
    ")\n",
    "\n",
    "OLLAMA_URL = \"http://localhost:11434/api/generate\"\n",
    "payload = {\"model\": \"llama3\", \"prompt\": prompt, \"stream\": False}\n",
    "response = requests.post(OLLAMA_URL, json=payload)\n",
    "llm_output = response.json().get(\"response\", \"\")\n",
    "\n",
    "with open(\"chaos_experiments.md\", \"w\") as f:\n",
    "    f.write(llm_output)"
   ]
  },
  {
   "cell_type": "code",
   "execution_count": 51,
   "id": "6d4a578a",
   "metadata": {},
   "outputs": [
    {
     "data": {
      "text/html": [
       "<div>\n",
       "<style scoped>\n",
       "    .dataframe tbody tr th:only-of-type {\n",
       "        vertical-align: middle;\n",
       "    }\n",
       "\n",
       "    .dataframe tbody tr th {\n",
       "        vertical-align: top;\n",
       "    }\n",
       "\n",
       "    .dataframe thead th {\n",
       "        text-align: right;\n",
       "    }\n",
       "</style>\n",
       "<table border=\"1\" class=\"dataframe\">\n",
       "  <thead>\n",
       "    <tr style=\"text-align: right;\">\n",
       "      <th></th>\n",
       "      <th>Experiment</th>\n",
       "      <th>Target</th>\n",
       "      <th>Action</th>\n",
       "      <th>Expected Outcome</th>\n",
       "    </tr>\n",
       "  </thead>\n",
       "  <tbody>\n",
       "    <tr>\n",
       "      <th>0</th>\n",
       "      <td>DB Outage</td>\n",
       "      <td>\"db\"</td>\n",
       "      <td>Simulate a temporary DB node failure by termin...</td>\n",
       "      <td>No outcome provided</td>\n",
       "    </tr>\n",
       "    <tr>\n",
       "      <th>1</th>\n",
       "      <td>API Cache Miss</td>\n",
       "      <td>\"api\"</td>\n",
       "      <td>Inject high-latency responses from cache misse...</td>\n",
       "      <td>None</td>\n",
       "    </tr>\n",
       "    <tr>\n",
       "      <th>2</th>\n",
       "      <td>Web API Timeout</td>\n",
       "      <td>\"web\" &amp; \"api\"</td>\n",
       "      <td>Simulate an intentional timeout between the we...</td>\n",
       "      <td>None</td>\n",
       "    </tr>\n",
       "    <tr>\n",
       "      <th>3</th>\n",
       "      <td>Cache Failover</td>\n",
       "      <td>\"cache\"</td>\n",
       "      <td>Simulate a temporary failure of the cache serv...</td>\n",
       "      <td>None</td>\n",
       "    </tr>\n",
       "  </tbody>\n",
       "</table>\n",
       "</div>"
      ],
      "text/plain": [
       "        Experiment         Target  \\\n",
       "0        DB Outage           \"db\"   \n",
       "1   API Cache Miss          \"api\"   \n",
       "2  Web API Timeout  \"web\" & \"api\"   \n",
       "3   Cache Failover        \"cache\"   \n",
       "\n",
       "                                              Action     Expected Outcome  \n",
       "0  Simulate a temporary DB node failure by termin...  No outcome provided  \n",
       "1  Inject high-latency responses from cache misse...                 None  \n",
       "2  Simulate an intentional timeout between the we...                 None  \n",
       "3  Simulate a temporary failure of the cache serv...                 None  "
      ]
     },
     "execution_count": 51,
     "metadata": {},
     "output_type": "execute_result"
    }
   ],
   "source": [
    "import re\n",
    "import pandas as pd\n",
    "\n",
    "with open(\"chaos_experiments.md\", \"r\") as f:\n",
    "    lines = f.readlines()\n",
    "\n",
    "# Extract only table rows, skip alignment and header rows with \"---\"\n",
    "table_lines = [line for line in lines if \"|\" in line and not line.strip().startswith(\"|---\")]\n",
    "\n",
    "cleaned_rows = []\n",
    "for line in table_lines:\n",
    "    line = re.sub(r\"\\*\\*(.*?)\\*\\*\", r\"\\1\", line)  # remove bold\n",
    "    line = line.strip().strip(\"|\")\n",
    "    cleaned_rows.append([col.strip() for col in line.split(\"|\")])\n",
    "\n",
    "# Remove rows that are just \"---\" or empty\n",
    "filtered_rows = [row for row in cleaned_rows if not all(col == \"---\" or col == \"\" for col in row)]\n",
    "\n",
    "# Remove header row if it contains only \"---\"\n",
    "if filtered_rows and all(col == \"---\" for col in filtered_rows[0]):\n",
    "    filtered_rows = filtered_rows[1:]\n",
    "\n",
    "# Remove any row where 'Experiment' is \"---\"\n",
    "if filtered_rows and filtered_rows[0][0].lower() == \"experiment\":\n",
    "    columns = filtered_rows[0]\n",
    "    data = [row for row in filtered_rows[1:] if row[0] != \"---\"]\n",
    "else:\n",
    "    columns = filtered_rows[0]\n",
    "    data = filtered_rows[1:]\n",
    "\n",
    "df_chaos = pd.DataFrame(data, columns=columns)\n",
    "\n",
    "# Replace empty or 'None' values in 'Expected Outcome' with a more readable string if desired\n",
    "df_chaos[\"Expected Outcome\"] = df_chaos[\"Expected Outcome\"].replace([\"None\", \"\", \"null\"], \"No outcome provided\")\n",
    "\n",
    "df_chaos.to_csv(\"chaos_experiments.csv\", index=False)\n",
    "df_chaos.head()"
   ]
  },
  {
   "cell_type": "code",
   "execution_count": 82,
   "id": "21f8d91c",
   "metadata": {},
   "outputs": [
    {
     "name": "stderr",
     "output_type": "stream",
     "text": [
      "C:\\Users\\behip\\AppData\\Local\\Temp\\ipykernel_19792\\4216169805.py:6: FutureWarning: \n",
      "\n",
      "Passing `palette` without assigning `hue` is deprecated and will be removed in v0.14.0. Assign the `x` variable to `hue` and set `legend=False` for the same effect.\n",
      "\n",
      "  plot = sns.catplot(\n"
     ]
    },
    {
     "data": {
      "image/png": "[encoded data removed]",
      "text/plain": [
       "<Figure size 1000x500 with 1 Axes>"
      ]
     },
     "metadata": {},
     "output_type": "display_data"
    }
   ],
   "source": [
    "import seaborn as sns\n",
    "import matplotlib.pyplot as plt\n",
    "import matplotlib.ticker as ticker\n",
    "\n",
    "# Create the plot\n",
    "plot = sns.catplot(\n",
    "    data=df_counts,\n",
    "    x=\"Target\",\n",
    "    y=\"Count\",\n",
    "    kind=\"bar\",\n",
    "    height=5,\n",
    "    aspect=2,\n",
    "    palette=\"Set2\"\n",
    ")\n",
    "\n",
    "# Apply styling\n",
    "plot.fig.suptitle(\"Closed Actions by Target Service\", fontsize=14, fontweight=\"bold\", y=1.05)\n",
    "plot.set_axis_labels(\"Target\", \"Number of Actions\")\n",
    "plot.set_xticklabels(rotation=30)\n",
    "\n",
    "# Force integer ticks on y-axis\n",
    "ax = plot.ax\n",
    "ax.yaxis.set_major_locator(ticker.MaxNLocator(integer=True))\n",
    "\n",
    "plt.tight_layout()\n",
    "plt.show()"
   ]
  },
  {
   "cell_type": "code",
   "execution_count": null,
   "id": "c1a57c76",
   "metadata": {},
   "outputs": [],
   "source": []
  }
 ],
 "metadata": {
  "kernelspec": {
   "display_name": ".venv",
   "language": "python",
   "name": "python3"
  },
  "language_info": {
   "codemirror_mode": {
    "name": "ipython",
    "version": 3
   },
   "file_extension": ".py",
   "mimetype": "text/x-python",
   "name": "python",
   "nbconvert_exporter": "python",
   "pygments_lexer": "ipython3",
   "version": "3.12.2"
  }
 },
 "nbformat": 4,
 "nbformat_minor": 5
}
