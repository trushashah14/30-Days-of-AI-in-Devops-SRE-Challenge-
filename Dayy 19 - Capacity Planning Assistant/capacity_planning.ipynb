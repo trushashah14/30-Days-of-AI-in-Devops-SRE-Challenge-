{
 "cells": [
  {
   "cell_type": "markdown",
   "id": "a6e52922",
   "metadata": {},
   "source": [
    "# Day 19: Capacity Planning Assistant\n",
    "\n",
    "Automate resource forecasting and generate a capacity planning document using time-series models and LLMs."
   ]
  },
  {
   "cell_type": "markdown",
   "id": "24922d51",
   "metadata": {},
   "source": [
    "## Step 1: Environment Setup\n",
    "\n",
    "Install required packages and load environment variables."
   ]
  },
  {
   "cell_type": "code",
   "execution_count": 3,
   "id": "c0e0ae56",
   "metadata": {},
   "outputs": [
    {
     "data": {
      "text/plain": [
       "True"
      ]
     },
     "execution_count": 3,
     "metadata": {},
     "output_type": "execute_result"
    }
   ],
   "source": [
    "# Install required packages if missing\n",
    "import sys\n",
    "def pip_install(pkg):\n",
    "    import importlib\n",
    "    try:\n",
    "        importlib.import_module(pkg)\n",
    "    except ImportError:\n",
    "        import subprocess\n",
    "        subprocess.check_call([sys.executable, '-m', 'pip', 'install', pkg])\n",
    "\n",
    "for pkg in ['pandas', 'numpy', 'matplotlib', 'scikit-learn', 'statsmodels', 'requests', 'python-dotenv']:\n",
    "    pip_install(pkg)\n",
    "\n",
    "import pandas as pd\n",
    "import numpy as np\n",
    "import matplotlib.pyplot as plt\n",
    "from statsmodels.tsa.holtwinters import ExponentialSmoothing\n",
    "import requests\n",
    "import json\n",
    "from dotenv import load_dotenv\n",
    "load_dotenv()"
   ]
  },
  {
   "cell_type": "markdown",
   "id": "abeb3d7c",
   "metadata": {},
   "source": [
    "## Step 2: Load Historical Metrics\n",
    "\n",
    "Load resource metrics from CSV (CPU, memory, disk, network)."
   ]
  },
  {
   "cell_type": "code",
   "execution_count": null,
   "id": "373f0cd2",
   "metadata": {},
   "outputs": [
    {
     "name": "stdout",
     "output_type": "stream",
     "text": [
      "Sample resource_metrics.csv created with 180 rows.\n"
     ]
    },
    {
     "data": {
      "text/html": [
       "<div>\n",
       "<style scoped>\n",
       "    .dataframe tbody tr th:only-of-type {\n",
       "        vertical-align: middle;\n",
       "    }\n",
       "\n",
       "    .dataframe tbody tr th {\n",
       "        vertical-align: top;\n",
       "    }\n",
       "\n",
       "    .dataframe thead th {\n",
       "        text-align: right;\n",
       "    }\n",
       "</style>\n",
       "<table border=\"1\" class=\"dataframe\">\n",
       "  <thead>\n",
       "    <tr style=\"text-align: right;\">\n",
       "      <th></th>\n",
       "      <th>cpu_usage</th>\n",
       "      <th>memory_usage</th>\n",
       "      <th>disk_usage</th>\n",
       "      <th>network_usage</th>\n",
       "    </tr>\n",
       "    <tr>\n",
       "      <th>timestamp</th>\n",
       "      <th></th>\n",
       "      <th></th>\n",
       "      <th></th>\n",
       "      <th></th>\n",
       "    </tr>\n",
       "  </thead>\n",
       "  <tbody>\n",
       "    <tr>\n",
       "      <th>2025-08-01</th>\n",
       "      <td>60.697931</td>\n",
       "      <td>58.812875</td>\n",
       "      <td>68.521906</td>\n",
       "      <td>55.783307</td>\n",
       "    </tr>\n",
       "    <tr>\n",
       "      <th>2025-08-02</th>\n",
       "      <td>74.864045</td>\n",
       "      <td>48.135928</td>\n",
       "      <td>41.612144</td>\n",
       "      <td>26.673032</td>\n",
       "    </tr>\n",
       "    <tr>\n",
       "      <th>2025-08-03</th>\n",
       "      <td>74.740832</td>\n",
       "      <td>38.370507</td>\n",
       "      <td>62.995976</td>\n",
       "      <td>50.331587</td>\n",
       "    </tr>\n",
       "    <tr>\n",
       "      <th>2025-08-04</th>\n",
       "      <td>72.574628</td>\n",
       "      <td>46.110411</td>\n",
       "      <td>42.722369</td>\n",
       "      <td>44.819338</td>\n",
       "    </tr>\n",
       "    <tr>\n",
       "      <th>2025-08-05</th>\n",
       "      <td>53.078225</td>\n",
       "      <td>68.662190</td>\n",
       "      <td>61.664243</td>\n",
       "      <td>21.427531</td>\n",
       "    </tr>\n",
       "  </tbody>\n",
       "</table>\n",
       "</div>"
      ],
      "text/plain": [
       "            cpu_usage  memory_usage  disk_usage  network_usage\n",
       "timestamp                                                     \n",
       "2025-08-01  60.697931     58.812875   68.521906      55.783307\n",
       "2025-08-02  74.864045     48.135928   41.612144      26.673032\n",
       "2025-08-03  74.740832     38.370507   62.995976      50.331587\n",
       "2025-08-04  72.574628     46.110411   42.722369      44.819338\n",
       "2025-08-05  53.078225     68.662190   61.664243      21.427531"
      ]
     },
     "execution_count": 4,
     "metadata": {},
     "output_type": "execute_result"
    }
   ],
   "source": [
    "# Load historical metrics\n",
    "import os\n",
    "import pandas as pd\n",
    "\n",
    "csv_path = 'resource_metrics.csv'\n",
    "if not os.path.exists(csv_path):\n",
    "    # Create a sample CSV if not found\n",
    "    import numpy as np\n",
    "    import datetime\n",
    "    dates = pd.date_range(start='2025-08-01', periods=180, freq='D')\n",
    "    data = {\n",
    "        'timestamp': dates,\n",
    "        'cpu_usage': np.random.uniform(20, 80, size=len(dates)),\n",
    "        'memory_usage': np.random.uniform(30, 90, size=len(dates)),\n",
    "        'disk_usage': np.random.uniform(40, 95, size=len(dates)),\n",
    "        'network_usage': np.random.uniform(10, 60, size=len(dates)),\n",
    "    }\n",
    "    pd.DataFrame(data).to_csv(csv_path, index=False)\n",
    "    print(f'Sample resource_metrics.csv created with {len(dates)} rows.')\n",
    "\n",
    "try:\n",
    "    df = pd.read_csv(csv_path, parse_dates=['timestamp'])\n",
    "    df.set_index('timestamp', inplace=True)\n",
    "    display(df.head())\n",
    "except Exception as e:\n",
    "    print(f'Error loading {csv_path}:', e)"
   ]
  },
  {
   "cell_type": "markdown",
   "id": "84c5ca40",
   "metadata": {},
   "source": [
    "## Step 3: Forecast Resource Needs\n",
    "\n",
    "Use Holt-Winters (Exponential Smoothing) to forecast resource usage for the next quarter (90 days)."
   ]
  },
  {
   "cell_type": "code",
   "execution_count": 5,
   "id": "8f8a775d",
   "metadata": {},
   "outputs": [
    {
     "name": "stderr",
     "output_type": "stream",
     "text": [
      "c:\\Users\\behip\\Documents\\Work\\IT\\30-Days-of-AI-in-Devops-SRE-Challenge-\\.venv\\Lib\\site-packages\\statsmodels\\tsa\\base\\tsa_model.py:473: ValueWarning: No frequency information was provided, so inferred frequency D will be used.\n",
      "  self._init_dates(dates, freq)\n",
      "c:\\Users\\behip\\Documents\\Work\\IT\\30-Days-of-AI-in-Devops-SRE-Challenge-\\.venv\\Lib\\site-packages\\statsmodels\\tsa\\base\\tsa_model.py:473: ValueWarning: No frequency information was provided, so inferred frequency D will be used.\n",
      "  self._init_dates(dates, freq)\n",
      "c:\\Users\\behip\\Documents\\Work\\IT\\30-Days-of-AI-in-Devops-SRE-Challenge-\\.venv\\Lib\\site-packages\\statsmodels\\tsa\\base\\tsa_model.py:473: ValueWarning: No frequency information was provided, so inferred frequency D will be used.\n",
      "  self._init_dates(dates, freq)\n",
      "c:\\Users\\behip\\Documents\\Work\\IT\\30-Days-of-AI-in-Devops-SRE-Challenge-\\.venv\\Lib\\site-packages\\statsmodels\\tsa\\base\\tsa_model.py:473: ValueWarning: No frequency information was provided, so inferred frequency D will be used.\n",
      "  self._init_dates(dates, freq)\n"
     ]
    },
    {
     "data": {
      "text/html": [
       "<div>\n",
       "<style scoped>\n",
       "    .dataframe tbody tr th:only-of-type {\n",
       "        vertical-align: middle;\n",
       "    }\n",
       "\n",
       "    .dataframe tbody tr th {\n",
       "        vertical-align: top;\n",
       "    }\n",
       "\n",
       "    .dataframe thead th {\n",
       "        text-align: right;\n",
       "    }\n",
       "</style>\n",
       "<table border=\"1\" class=\"dataframe\">\n",
       "  <thead>\n",
       "    <tr style=\"text-align: right;\">\n",
       "      <th></th>\n",
       "      <th>date</th>\n",
       "      <th>cpu_forecast</th>\n",
       "      <th>memory_forecast</th>\n",
       "      <th>disk_forecast</th>\n",
       "      <th>network_forecast</th>\n",
       "    </tr>\n",
       "  </thead>\n",
       "  <tbody>\n",
       "    <tr>\n",
       "      <th>0</th>\n",
       "      <td>2026-01-28</td>\n",
       "      <td>48.281241</td>\n",
       "      <td>58.828133</td>\n",
       "      <td>75.978413</td>\n",
       "      <td>37.528614</td>\n",
       "    </tr>\n",
       "    <tr>\n",
       "      <th>1</th>\n",
       "      <td>2026-01-29</td>\n",
       "      <td>48.260165</td>\n",
       "      <td>58.847519</td>\n",
       "      <td>76.186993</td>\n",
       "      <td>37.530082</td>\n",
       "    </tr>\n",
       "    <tr>\n",
       "      <th>2</th>\n",
       "      <td>2026-01-30</td>\n",
       "      <td>48.239089</td>\n",
       "      <td>58.866905</td>\n",
       "      <td>76.395573</td>\n",
       "      <td>37.531550</td>\n",
       "    </tr>\n",
       "    <tr>\n",
       "      <th>3</th>\n",
       "      <td>2026-01-31</td>\n",
       "      <td>48.218012</td>\n",
       "      <td>58.886291</td>\n",
       "      <td>76.604153</td>\n",
       "      <td>37.533018</td>\n",
       "    </tr>\n",
       "    <tr>\n",
       "      <th>4</th>\n",
       "      <td>2026-02-01</td>\n",
       "      <td>48.196936</td>\n",
       "      <td>58.905677</td>\n",
       "      <td>76.812733</td>\n",
       "      <td>37.534485</td>\n",
       "    </tr>\n",
       "  </tbody>\n",
       "</table>\n",
       "</div>"
      ],
      "text/plain": [
       "        date  cpu_forecast  memory_forecast  disk_forecast  network_forecast\n",
       "0 2026-01-28     48.281241        58.828133      75.978413         37.528614\n",
       "1 2026-01-29     48.260165        58.847519      76.186993         37.530082\n",
       "2 2026-01-30     48.239089        58.866905      76.395573         37.531550\n",
       "3 2026-01-31     48.218012        58.886291      76.604153         37.533018\n",
       "4 2026-02-01     48.196936        58.905677      76.812733         37.534485"
      ]
     },
     "execution_count": 5,
     "metadata": {},
     "output_type": "execute_result"
    }
   ],
   "source": [
    "# Forecast CPU usage\n",
    "cpu_model = ExponentialSmoothing(df['cpu_usage'], trend='add', seasonal=None)\n",
    "cpu_fit = cpu_model.fit()\n",
    "cpu_forecast = cpu_fit.forecast(steps=90)\n",
    "\n",
    "# Forecast memory usage\n",
    "mem_model = ExponentialSmoothing(df['memory_usage'], trend='add', seasonal=None)\n",
    "mem_fit = mem_model.fit()\n",
    "mem_forecast = mem_fit.forecast(steps=90)\n",
    "\n",
    "# Forecast disk usage\n",
    "disk_model = ExponentialSmoothing(df['disk_usage'], trend='add', seasonal=None)\n",
    "disk_fit = disk_model.fit()\n",
    "disk_forecast = disk_fit.forecast(steps=90)\n",
    "\n",
    "# Forecast network usage\n",
    "net_model = ExponentialSmoothing(df['network_usage'], trend='add', seasonal=None)\n",
    "net_fit = net_model.fit()\n",
    "net_forecast = net_fit.forecast(steps=90)\n",
    "\n",
    "# Combine forecasts into DataFrame\n",
    "forecast_df = pd.DataFrame({\n",
    "    'date': cpu_forecast.index,\n",
    "    'cpu_forecast': cpu_forecast.values,\n",
    "    'memory_forecast': mem_forecast.values,\n",
    "    'disk_forecast': disk_forecast.values,\n",
    "    'network_forecast': net_forecast.values\n",
    "})\n",
    "forecast_df.head()"
   ]
  },
  {
   "cell_type": "markdown",
   "id": "ebf7e18e",
   "metadata": {},
   "source": [
    "## Step 4: Visualize Forecasts\n",
    "\n",
    "Plot forecasted resource usage for the next quarter."
   ]
  },
  {
   "cell_type": "code",
   "execution_count": 6,
   "id": "7ed8b9cb",
   "metadata": {},
   "outputs": [
    {
     "data": {
      "image/png": "[encoded data removed]",
      "text/plain": [
       "<Figure size 1200x800 with 1 Axes>"
      ]
     },
     "metadata": {},
     "output_type": "display_data"
    }
   ],
   "source": [
    "plt.figure(figsize=(12, 8))\n",
    "plt.plot(forecast_df['date'], forecast_df['cpu_forecast'], label='CPU Forecast')\n",
    "plt.plot(forecast_df['date'], forecast_df['memory_forecast'], label='Memory Forecast')\n",
    "plt.plot(forecast_df['date'], forecast_df['disk_forecast'], label='Disk Forecast')\n",
    "plt.plot(forecast_df['date'], forecast_df['network_forecast'], label='Network Forecast')\n",
    "plt.legend()\n",
    "plt.title('Resource Usage Forecast (Next Quarter)')\n",
    "plt.xlabel('Date')\n",
    "plt.ylabel('Usage')\n",
    "plt.grid(True)\n",
    "plt.tight_layout()\n",
    "plt.show()"
   ]
  },
  {
   "cell_type": "markdown",
   "id": "c56d7e87",
   "metadata": {},
   "source": [
    "## Step 5: Format Forecast Tables for LLM\n",
    "\n",
    "Convert forecast results to markdown tables for LLM input."
   ]
  },
  {
   "cell_type": "code",
   "execution_count": 7,
   "id": "a6c90999",
   "metadata": {},
   "outputs": [
    {
     "name": "stdout",
     "output_type": "stream",
     "text": [
      "| date                |   cpu_forecast |   memory_forecast |   disk_forecast |   network_forecast |\n",
      "|:--------------------|---------------:|------------------:|----------------:|-------------------:|\n",
      "| 2026-01-28 00:00:00 |        48.2812 |           58.8281 |         75.9784 |            37.5286 |\n",
      "| 2026-01-29 00:00:00 |        48.2602 |           58.8475 |         76.187  |            37.5301 |\n",
      "| 2026-01-30 00:00:00 |        48.2391 |           58.8669 |         76.3956 |            37.5315 |\n",
      "| 2026-01-31 00:00:00 |        48.218  |           58.8863 |         76.6042 |            37.533  |\n",
      "| 2026-02-01 00:00:00 |        48.1969 |           58.9057 |         76.8127 |            37.5345 |\n",
      "| 2026-02-02 00:00:00 |        48.1759 |           58.9251 |         77.0213 |            37.536  |\n",
      "| 2026-02-03 00:00:00 |        48.1548 |           58.9444 |         77.2299 |            37.5374 |\n",
      "| 2026-02-04 00:00:00 |        48.1337 |           58.9638 |         77.4385 |            37.5389 |\n",
      "| 2026-02-05 00:00:00 |        48.1126 |           58.9832 |         77.6471 |            37.5404 |\n",
      "| 2026-02-06 00:00:00 |        48.0916 |           59.0026 |         77.8556 |            37.5418 |\n"
     ]
    }
   ],
   "source": [
    "# Format forecast as markdown table\n",
    "forecast_md = forecast_df.head(10).to_markdown(index=False)\n",
    "print(forecast_md)"
   ]
  },
  {
   "cell_type": "markdown",
   "id": "5d8d3c2f",
   "metadata": {},
   "source": [
    "## Step 6: Draft Capacity Planning Document with LLM\n",
    "\n",
    "Send markdown tables and prompt to Llama 3 via Ollama to generate recommendations."
   ]
  },
  {
   "cell_type": "code",
   "execution_count": 11,
   "id": "a1d185fc",
   "metadata": {},
   "outputs": [
    {
     "name": "stdout",
     "output_type": "stream",
     "text": [
      "**Executive Summary**\n",
      "\n",
      "Based on the provided forecast tables, our analysis indicates that all resources (CPU, memory, disk, and network) are expected to increase in usage throughout the next quarter. The CPU utilization is projected to reach 100% by the end of February, indicating a potential bottleneck. Memory and disk space are also expected to be fully utilized, while network bandwidth will remain available but with some minor fluctuations.\n",
      "\n",
      "**Analysis**\n",
      "\n",
      "### CPU\n",
      "\n",
      "The CPU forecast indicates a steady increase in usage throughout the quarter, reaching 100% utilization by the end of February. This suggests that additional CPU resources may be necessary to prevent bottlenecks and ensure efficient system performance.\n",
      "\n",
      "### Memory\n",
      "\n",
      "Memory usage is also expected to increase steadily throughout the quarter, with a peak utilization rate of around 95%. While this does not indicate an immediate concern, it's essential to monitor memory usage closely to avoid potential issues.\n",
      "\n",
      "### Disk\n",
      "\n",
      "Disk space usage is projected to remain high throughout the quarter, with a peak utilization rate of around 90%. This may lead to performance issues if not addressed promptly. It's crucial to implement proper disk management and consider upgrading storage capacity if necessary.\n",
      "\n",
      "### Network\n",
      "\n",
      "Network bandwidth appears to be sufficient for the next quarter, with minor fluctuations in usage. However, it's essential to monitor network traffic and adjust configurations as needed to prevent any potential issues.\n",
      "\n",
      "**Recommendations**\n",
      "\n",
      "1. **CPU Scaling**: Consider scaling up CPU resources to accommodate increasing workload demands. This may involve adding new instances or upgrading existing ones.\n",
      "2. **Memory Management**: Implement efficient memory management strategies, such as caching and garbage collection, to optimize system performance.\n",
      "3. **Disk Capacity**: Plan for disk capacity upgrades or consider implementing data compression techniques to reduce storage requirements.\n",
      "4. **Network Monitoring**: Continue monitoring network traffic and adjust configurations as needed to prevent any potential issues.\n",
      "\n",
      "**Risks**\n",
      "\n",
      "1. **CPU Bottleneck**: Failure to scale up CPU resources may lead to performance issues, decreased system responsiveness, and increased error rates.\n",
      "2. **Memory Constraints**: Insufficient memory management may result in memory allocation errors, crashes, or slow system performance.\n",
      "3. **Disk Space Issues**: Low disk space can cause data corruption, loss of critical files, or system crashes.\n",
      "\n",
      "**Resource Allocation**\n",
      "\n",
      "1. **CPU**: Allocate additional CPU resources to accommodate increasing workload demands.\n",
      "2. **Memory**: Implement efficient memory management strategies and monitor memory usage closely.\n",
      "3. **Disk**: Plan for disk capacity upgrades or consider implementing data compression techniques.\n",
      "4. **Network**: Monitor network traffic and adjust configurations as needed.\n",
      "\n",
      "**Action Items and Next Steps**\n",
      "\n",
      "1. **CPU Scaling**: Schedule a meeting with the infrastructure team to discuss CPU scaling options and timelines.\n",
      "2. **Memory Management**: Develop a memory management strategy and implement caching and garbage collection techniques.\n",
      "3. **Disk Capacity**: Research disk capacity upgrade options and develop a plan for implementation.\n",
      "4. **Network Monitoring**: Implement network monitoring tools and procedures to ensure efficient traffic management.\n",
      "\n",
      "By following these recommendations, risks, and action items, we can proactively address the increasing workload demands and ensure system performance remains optimal throughout the next quarter.\n"
     ]
    }
   ],
   "source": [
    "def draft_capacity_plan(forecast_tables_md):\n",
    "    prompt = f'''\n",
    "You are a DevOps capacity planning expert. Given the following forecast tables, draft a detailed and complete capacity planning document for the next quarter. Include:\n",
    "- Executive summary\n",
    "- Analysis of each resource (CPU, memory, disk, network)\n",
    "- Recommendations for scaling, risks, and resource allocation\n",
    "- Action items and next steps\n",
    "\n",
    "Be concise in your analysis but ensure the document is fully completed. If you reach the end of your output, continue until all sections are covered.\n",
    "\n",
    "{forecast_tables_md}\n",
    "'''\n",
    "    ollama_url = \"http://localhost:11434/api/generate\"\n",
    "    payload = {\n",
    "        \"model\": \"llama3\",\n",
    "        \"prompt\": prompt,\n",
    "        \"options\": {\"num_predict\": 1024},  # Increased token limit for more complete output\n",
    "    }\n",
    "    llm_output = \"\"\n",
    "    try:\n",
    "        with requests.post(ollama_url, json=payload, stream=True) as response:\n",
    "            response.raise_for_status()\n",
    "            for line in response.iter_lines():\n",
    "                if line:\n",
    "                    try:\n",
    "                        part = json.loads(line.decode())\n",
    "                        llm_output += part.get(\"response\", \"\")\n",
    "                    except Exception:\n",
    "                        pass\n",
    "    except Exception as e:\n",
    "        print(\"Ollama connection or generation error:\", e)\n",
    "    return llm_output\n",
    "\n",
    "# Generate the document\n",
    "capacity_plan_md = draft_capacity_plan(forecast_md)\n",
    "print(capacity_plan_md)"
   ]
  },
  {
   "cell_type": "markdown",
   "id": "db1bd7b3",
   "metadata": {},
   "source": [
    "## Step 7: Save and Review Output\n",
    "\n",
    "Save the generated markdown document and review recommendations."
   ]
  },
  {
   "cell_type": "code",
   "execution_count": 12,
   "id": "bf8663b3",
   "metadata": {},
   "outputs": [
    {
     "name": "stdout",
     "output_type": "stream",
     "text": [
      "Capacity plan saved to capacity_plan.md\n"
     ]
    }
   ],
   "source": [
    "# Save the capacity plan\n",
    "with open('capacity_plan.md', 'w') as f:\n",
    "    f.write(capacity_plan_md)\n",
    "print('Capacity plan saved to capacity_plan.md')\n"
   ]
  }
 ],
 "metadata": {
  "kernelspec": {
   "display_name": ".venv",
   "language": "python",
   "name": "python3"
  },
  "language_info": {
   "codemirror_mode": {
    "name": "ipython",
    "version": 3
   },
   "file_extension": ".py",
   "mimetype": "text/x-python",
   "name": "python",
   "nbconvert_exporter": "python",
   "pygments_lexer": "ipython3",
   "version": "3.12.2"
  }
 },
 "nbformat": 4,
 "nbformat_minor": 5
}
