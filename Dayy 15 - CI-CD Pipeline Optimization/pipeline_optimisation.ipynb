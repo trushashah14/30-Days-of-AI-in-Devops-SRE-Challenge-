{
 "cells": [
  {
   "cell_type": "markdown",
   "id": "213ad2e5",
   "metadata": {},
   "source": [
    "## CI/CD Pipeline Optimization with GitHub Actions Logs\n",
    "Here’s the full content, organized into cells with markdown headers and Python code:\n"
   ]
  },
  {
   "cell_type": "markdown",
   "id": "1c86bb09",
   "metadata": {},
   "source": [
    "### 1. Setup & Configuration"
   ]
  },
  {
   "cell_type": "code",
   "execution_count": 27,
   "id": "2bcba777",
   "metadata": {},
   "outputs": [],
   "source": [
    "# Install required packages (uncomment if needed)\n",
    "# !pip install requests pandas seaborn scikit-learn scikit-optimize pyyaml matplotlib\n",
    "\n",
    "import requests, pandas as pd, seaborn as sns, matplotlib.pyplot as plt\n",
    "from datetime import datetime\n",
    "import yaml\n",
    "import os\n",
    "from dotenv import load_dotenv\n",
    "\n",
    "# Load environment variables from .env file in project root\n",
    "load_dotenv(dotenv_path=r'c:\\Users\\behip\\Documents\\Work\\IT\\30-Days-of-AI-in-Devops-SRE-Challenge-\\.env')\n",
    "\n",
    "# Load repo from config.yaml, token from env\n",
    "with open(\"config.yaml\") as f:\n",
    "    config = yaml.safe_load(f)\n",
    "\n",
    "REPO = config[\"repo\"]\n",
    "TOKEN = os.getenv(\"GITHUB_TOKEN\")\n",
    "if not TOKEN:\n",
    "    raise ValueError(\"GitHub token not set. Please set the GITHUB_TOKEN environment variable in your .env file.\")\n",
    "HEADERS = {\"Authorization\": f\"Bearer {TOKEN}\"}"
   ]
  },
  {
   "cell_type": "markdown",
   "id": "0256c840",
   "metadata": {},
   "source": [
    "### 2. Fetch & Parse GitHub Actions Logs"
   ]
  },
  {
   "cell_type": "code",
   "execution_count": 22,
   "id": "b2eda6b5",
   "metadata": {},
   "outputs": [
    {
     "data": {
      "text/html": [
       "<div>\n",
       "<style scoped>\n",
       "    .dataframe tbody tr th:only-of-type {\n",
       "        vertical-align: middle;\n",
       "    }\n",
       "\n",
       "    .dataframe tbody tr th {\n",
       "        vertical-align: top;\n",
       "    }\n",
       "\n",
       "    .dataframe thead th {\n",
       "        text-align: right;\n",
       "    }\n",
       "</style>\n",
       "<table border=\"1\" class=\"dataframe\">\n",
       "  <thead>\n",
       "    <tr style=\"text-align: right;\">\n",
       "      <th></th>\n",
       "      <th>id</th>\n",
       "      <th>name</th>\n",
       "      <th>status</th>\n",
       "      <th>conclusion</th>\n",
       "      <th>duration</th>\n",
       "    </tr>\n",
       "  </thead>\n",
       "  <tbody>\n",
       "    <tr>\n",
       "      <th>0</th>\n",
       "      <td>15127103693</td>\n",
       "      <td>CI</td>\n",
       "      <td>completed</td>\n",
       "      <td>success</td>\n",
       "      <td>56.0</td>\n",
       "    </tr>\n",
       "    <tr>\n",
       "      <th>1</th>\n",
       "      <td>15125796970</td>\n",
       "      <td>CI</td>\n",
       "      <td>completed</td>\n",
       "      <td>failure</td>\n",
       "      <td>49.0</td>\n",
       "    </tr>\n",
       "    <tr>\n",
       "      <th>2</th>\n",
       "      <td>15090945764</td>\n",
       "      <td>CI</td>\n",
       "      <td>completed</td>\n",
       "      <td>success</td>\n",
       "      <td>59.0</td>\n",
       "    </tr>\n",
       "    <tr>\n",
       "      <th>3</th>\n",
       "      <td>15090861449</td>\n",
       "      <td>CI</td>\n",
       "      <td>completed</td>\n",
       "      <td>failure</td>\n",
       "      <td>56.0</td>\n",
       "    </tr>\n",
       "    <tr>\n",
       "      <th>4</th>\n",
       "      <td>15090373686</td>\n",
       "      <td>CI</td>\n",
       "      <td>completed</td>\n",
       "      <td>failure</td>\n",
       "      <td>53.0</td>\n",
       "    </tr>\n",
       "  </tbody>\n",
       "</table>\n",
       "</div>"
      ],
      "text/plain": [
       "            id name     status conclusion  duration\n",
       "0  15127103693   CI  completed    success      56.0\n",
       "1  15125796970   CI  completed    failure      49.0\n",
       "2  15090945764   CI  completed    success      59.0\n",
       "3  15090861449   CI  completed    failure      56.0\n",
       "4  15090373686   CI  completed    failure      53.0"
      ]
     },
     "execution_count": 22,
     "metadata": {},
     "output_type": "execute_result"
    }
   ],
   "source": [
    "def fetch_workflow_runs(repo, headers):\n",
    "    url = f\"https://api.github.com/repos/{repo}/actions/runs\"\n",
    "    runs = requests.get(url, headers=headers).json()[\"workflow_runs\"]\n",
    "    data = []\n",
    "    for run in runs:\n",
    "        start = datetime.fromisoformat(run[\"created_at\"][:-1])\n",
    "        end = datetime.fromisoformat(run[\"updated_at\"][:-1])\n",
    "        data.append({\n",
    "            \"id\": run[\"id\"],\n",
    "            \"name\": run[\"name\"],\n",
    "            \"status\": run[\"status\"],\n",
    "            \"conclusion\": run[\"conclusion\"],\n",
    "            \"duration\": (end - start).total_seconds()\n",
    "        })\n",
    "    return pd.DataFrame(data)\n",
    "\n",
    "df = fetch_workflow_runs(REPO, HEADERS)\n",
    "df.to_csv(\"pipeline_logs.csv\", index=False)\n",
    "df.head()"
   ]
  },
  {
   "cell_type": "markdown",
   "id": "65bbf666",
   "metadata": {},
   "source": [
    "### 3. Visualize Build Time & Failure Rates"
   ]
  },
  {
   "cell_type": "code",
   "execution_count": 23,
   "id": "04b7a5f9",
   "metadata": {},
   "outputs": [
    {
     "name": "stdout",
     "output_type": "stream",
     "text": [
      "Failure Rate: 72.73%\n"
     ]
    },
    {
     "data": {
      "image/png": "[encoded data removed]",
      "text/plain": [
       "<Figure size 640x480 with 1 Axes>"
      ]
     },
     "metadata": {},
     "output_type": "display_data"
    }
   ],
   "source": [
    "# Load logs\n",
    "df = pd.read_csv(\"pipeline_logs.csv\")\n",
    "\n",
    "# Failure rate\n",
    "failure_rate = df[\"conclusion\"].value_counts(normalize=True).get(\"failure\", 0)\n",
    "print(f\"Failure Rate: {failure_rate:.2%}\")\n",
    "\n",
    "# Duration boxplot\n",
    "sns.boxplot(x=\"name\", y=\"duration\", data=df)\n",
    "plt.xticks(rotation=45)\n",
    "plt.title(\"Build Duration by Workflow\")\n",
    "plt.tight_layout()\n",
    "plt.show()"
   ]
  },
  {
   "cell_type": "markdown",
   "id": "8731a2b8",
   "metadata": {},
   "source": [
    "### 4. Regression & Bayesian Optimization"
   ]
  },
  {
   "cell_type": "code",
   "execution_count": 24,
   "id": "ccd92271",
   "metadata": {},
   "outputs": [
    {
     "name": "stdout",
     "output_type": "stream",
     "text": [
      "\n",
      "📊 Feature Importances:\n",
      "  - parallel_jobs: 74.22% impact on build duration\n",
      "  - cache_hit: 25.78% impact on build duration\n"
     ]
    },
    {
     "name": "stderr",
     "output_type": "stream",
     "text": [
      "c:\\Users\\behip\\Documents\\Work\\IT\\30-Days-of-AI-in-Devops-SRE-Challenge-\\.venv\\Lib\\site-packages\\skopt\\optimizer\\optimizer.py:517: UserWarning: The objective has been evaluated at point [np.int64(3), np.int64(0)] before, using random point [np.int64(8), np.int64(1)]\n",
      "  warnings.warn(\n",
      "c:\\Users\\behip\\Documents\\Work\\IT\\30-Days-of-AI-in-Devops-SRE-Challenge-\\.venv\\Lib\\site-packages\\skopt\\optimizer\\optimizer.py:517: UserWarning: The objective has been evaluated at point [np.int64(3), np.int64(0)] before, using random point [np.int64(3), np.int64(1)]\n",
      "  warnings.warn(\n"
     ]
    },
    {
     "name": "stdout",
     "output_type": "stream",
     "text": [
      "\n",
      "✅ Best Configuration Found:\n",
      "  - parallel_jobs: 6\n",
      "  - cache_hit: Disabled\n"
     ]
    }
   ],
   "source": [
    "from sklearn.ensemble import RandomForestRegressor\n",
    "from skopt import gp_minimize\n",
    "from skopt.space import Integer\n",
    "import pandas as pd\n",
    "\n",
    "# Simulate config features (replace with real metadata if available)\n",
    "df[\"parallel_jobs\"] = pd.Series([2, 4, 6, 8] * (len(df) // 4 + 1))[:len(df)]\n",
    "df[\"cache_hit\"] = pd.Series([0, 1] * (len(df) // 2 + 1))[:len(df)]\n",
    "\n",
    "X = df[[\"parallel_jobs\", \"cache_hit\"]]\n",
    "y = df[\"duration\"]\n",
    "\n",
    "# Train regression model\n",
    "model = RandomForestRegressor()\n",
    "model.fit(X, y)\n",
    "\n",
    "# Feature importances\n",
    "importances = dict(zip(X.columns, model.feature_importances_))\n",
    "print(\"\\n📊 Feature Importances:\")\n",
    "for feature, score in importances.items():\n",
    "    print(f\"  - {feature}: {score * 100:.2f}% impact on build duration\")\n",
    "\n",
    "# Bayesian Optimization\n",
    "def objective(params):\n",
    "    parallel, cache = params\n",
    "    input_df = pd.DataFrame([[parallel, cache]], columns=[\"parallel_jobs\", \"cache_hit\"])\n",
    "    pred = model.predict(input_df)\n",
    "    return pred[0]\n",
    "\n",
    "res = gp_minimize(objective, [Integer(1, 10), Integer(0, 1)], n_calls=20)\n",
    "\n",
    "# Best configuration\n",
    "best_config = dict(zip(X.columns, res.x))\n",
    "print(\"\\n✅ Best Configuration Found:\")\n",
    "for feature, value in best_config.items():\n",
    "    if \"cache\" in feature.lower():\n",
    "        print(f\"  - {feature}: {'Enabled' if value == 1 else 'Disabled'}\")\n",
    "    else:\n",
    "        print(f\"  - {feature}: {value}\")"
   ]
  },
  {
   "cell_type": "markdown",
   "id": "bd1c99b6",
   "metadata": {},
   "source": [
    "### 5. Generate Recommendations\n"
   ]
  },
  {
   "cell_type": "code",
   "execution_count": null,
   "id": "f5db0130",
   "metadata": {},
   "outputs": [
    {
     "data": {
      "text/markdown": [
       "\n",
       "## 🚀 CI/CD Optimization Summary\n",
       "\n",
       "| **Metric**                    | **Value**                |\n",
       "|------------------------------|--------------------------|\n",
       "| Average Build Duration       | `51.18 minutes`     |\n",
       "| Failure Rate                 | `72.73%`     |\n",
       "| Recommended Parallel Jobs    | `6`    |\n",
       "| Cache Strategy               | `Disabled`   |\n",
       "\n",
       "---\n",
       "\n",
       "### 🔍 Key Takeaways\n",
       "As a DevOps advisor, here are 3–5 key takeaways based on the provided CI/CD metrics:\n",
       "\n",
       "1. Slow Build Times Impact Deployment Reliability: With an average build duration of 51.18 minutes, it may be challenging to ensure consistent and reliable deployments. This could result in delayed deployments or missed deadlines, potentially affecting customer satisfaction and business operations. To improve deployment reliability, consider optimizing your build process or implementing a more efficient CI/CD pipeline.\n",
       "2. High Failure Rate Indicates Deployment Quality Concerns: A failure rate of 72.73% highlights the need for improved quality assurance in your deployment process. This could lead to unstable deployments, and ultimately impact customer satisfaction and business operations. To address this issue, consider implementing additional testing or quality control measures throughout the CI/CD pipeline.\n",
       "3. Underutilized Parallel Jobs Opportunity: With only 6 recommended parallel jobs being utilized, there is potential for improved performance and efficiency in your CI/CD pipeline. Enabling more parallel jobs could reduce build times and increase deployment frequency, resulting in faster time-to-market and improved customer satisfaction. To realize this benefit, consider increasing the number of parallel jobs or optimizing job scheduling to better utilize available resources.\n",
       "4. Disabled Cache Strategy May Hinder Performance: Disabling cache strategy may cause your CI/CD pipeline to spend more time fetching dependencies, building, and deploying your application. This could result in slower deployment times and reduced performance. To address this issue, consider enabling a cache strategy or implementing other optimization techniques to reduce the time spent on these tasks.\n",
       "5. Actionable Improvement Opportunities: Based on the provided metrics, there are several actionable improvement opportunities that can be addressed to enhance the reliability, performance, and overall effectiveness of your CI/CD pipeline. These include optimizing build times, improving quality assurance, utilizing parallel jobs more effectively, and enabling a cache strategy. By focusing on these areas, you can streamline your development processes and deliver high-quality applications to your customers faster and more efficiently.\n",
       "\n",
       "In conclusion, by analyzing the provided CI/CD metrics, it is clear that there are several areas for improvement in your pipeline. Addressing these issues can help improve deployment reliability, reduce build times, and enhance overall performance. As a DevOps advisor, I recommend prioritizing these improvement opportunities to achieve better results from your CI/CD pipeline.\n"
      ],
      "text/plain": [
       "<IPython.core.display.Markdown object>"
      ]
     },
     "metadata": {},
     "output_type": "display_data"
    }
   ],
   "source": [
    "import requests\n",
    "from IPython.display import Markdown, display\n",
    "import json\n",
    "\n",
    "# CI/CD summary values\n",
    "summary = {\n",
    "    \"Average Duration\": df[\"duration\"].mean(),\n",
    "    \"Failure Rate\": df[\"conclusion\"].value_counts(normalize=True).get(\"failure\", 0),\n",
    "    \"Recommended Parallel Jobs\": int(res.x[0]),\n",
    "    \"Recommended Cache Strategy\": \"Enabled\" if res.x[1] == 1 else \"Disabled\"\n",
    "}\n",
    "\n",
    "# Format values\n",
    "avg_duration_str = f\"{summary['Average Duration']:.2f} minutes\"\n",
    "failure_rate_str = f\"{summary['Failure Rate']*100:.2f}%\"\n",
    "parallel_jobs_str = str(summary[\"Recommended Parallel Jobs\"])\n",
    "cache_strategy_str = summary[\"Recommended Cache Strategy\"]\n",
    "\n",
    "# Construct prompt for LLM\n",
    "prompt = f\"\"\"\n",
    "You are a DevOps advisor. Based on the following CI/CD metrics, generate 3–5 key takeaways that are insightful, readable, and stakeholder-friendly.\n",
    "\n",
    "Metrics:\n",
    "- Average Build Duration: {avg_duration_str}\n",
    "- Failure Rate: {failure_rate_str}\n",
    "- Recommended Parallel Jobs: {parallel_jobs_str}\n",
    "- Cache Strategy: {cache_strategy_str}\n",
    "\n",
    "Focus on reliability, performance, and actionable improvements.\n",
    "\"\"\"\n",
    "\n",
    "\n",
    "\n",
    "response = requests.post(\n",
    "    \"http://localhost:11434/api/generate\",\n",
    "    json={\"model\": \"llama2\", \"prompt\": prompt},\n",
    "    stream=True\n",
    ")\n",
    "\n",
    "# Collect streamed chunks\n",
    "ai_text = \"\"\n",
    "for line in response.iter_lines():\n",
    "    if line:\n",
    "        chunk = line.decode(\"utf-8\")\n",
    "        try:\n",
    "            ai_text += json.loads(chunk)[\"response\"]\n",
    "        except Exception:\n",
    "            pass  # skip malformed lines\n",
    "\n",
    "\n",
    "# Build Markdown output\n",
    "md_text = f\"\"\"\n",
    "## 🚀 CI/CD Optimization Summary\n",
    "\n",
    "| **Metric**                    | **Value**                |\n",
    "|------------------------------|--------------------------|\n",
    "| Average Build Duration       | `{avg_duration_str}`     |\n",
    "| Failure Rate                 | `{failure_rate_str}`     |\n",
    "| Recommended Parallel Jobs    | `{parallel_jobs_str}`    |\n",
    "| Cache Strategy               | `{cache_strategy_str}`   |\n",
    "\n",
    "---\n",
    "\n",
    "### 🔍 Key Takeaways\n",
    "{ai_text}\n",
    "\"\"\"\n",
    "\n",
    "# Render in notebook\n",
    "display(Markdown(md_text))"
   ]
  }
 ],
 "metadata": {
  "kernelspec": {
   "display_name": ".venv",
   "language": "python",
   "name": "python3"
  },
  "language_info": {
   "codemirror_mode": {
    "name": "ipython",
    "version": 3
   },
   "file_extension": ".py",
   "mimetype": "text/x-python",
   "name": "python",
   "nbconvert_exporter": "python",
   "pygments_lexer": "ipython3",
   "version": "3.12.2"
  }
 },
 "nbformat": 4,
 "nbformat_minor": 5
}
