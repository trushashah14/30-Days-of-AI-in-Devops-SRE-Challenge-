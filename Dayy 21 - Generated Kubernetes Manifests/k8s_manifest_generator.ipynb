{
 "cells": [
  {
   "cell_type": "markdown",
   "id": "e288a12b",
   "metadata": {},
   "source": [
    "# Day 21: Generated Kubernetes Manifests\n",
    "\n",
    "Use an LLM to generate ready-to-apply Kubernetes Deployment and Service YAML from a simple service description.\n",
    "\n",
    "**Steps:**\n",
    "1. Define service requirements (name, image, ports, replicas, environment variables).\n",
    "2. Prepare a prompt for the LLM to generate Kubernetes manifests.\n",
    "3. Call the LLM (Ollama, Llama3, GPT-3.5, etc.) for YAML output.\n",
    "4. Save the generated YAML to files for direct application.\n",
    "5. (Optional) Validate YAML syntax and structure."
   ]
  },
  {
   "cell_type": "code",
   "execution_count": 16,
   "id": "6ed0a2de",
   "metadata": {},
   "outputs": [],
   "source": [
    "# Install required libraries\n",
    "!pip install requests --quiet"
   ]
  },
  {
   "cell_type": "code",
   "execution_count": 17,
   "id": "8590974c",
   "metadata": {},
   "outputs": [],
   "source": [
    "# Import libraries\n",
    "import requests\n",
    "import yaml"
   ]
  },
  {
   "cell_type": "code",
   "execution_count": 18,
   "id": "bc0b627a",
   "metadata": {},
   "outputs": [
    {
     "name": "stdout",
     "output_type": "stream",
     "text": [
      "Service description: {'name': 'webapp', 'image': 'nginx:1.25', 'replicas': 3, 'ports': [80], 'env': {'ENVIRONMENT': 'production', 'API_URL': 'https://api.example.com'}}\n"
     ]
    }
   ],
   "source": [
    "# Define service requirements\n",
    "service_description = {\n",
    "    'name': 'webapp',\n",
    "    'image': 'nginx:1.25',\n",
    "    'replicas': 3,\n",
    "    'ports': [80],\n",
    "    'env': {\n",
    "        'ENVIRONMENT': 'production',\n",
    "        'API_URL': 'https://api.example.com'\n",
    "    }\n",
    "}\n",
    "print('Service description:', service_description)"
   ]
  },
  {
   "cell_type": "code",
   "execution_count": 19,
   "id": "ab8b4694",
   "metadata": {},
   "outputs": [],
   "source": [
    "# Prepare prompt for LLM to generate Kubernetes manifests\n",
    "prompt = (\n",
    "    \"You are a Kubernetes expert. Given the following service description, generate a ready-to-apply Kubernetes Deployment and Service YAML. \"\n",
    "    \"The YAML must be valid, production-ready, and include all required fields.\\n\\n\"\n",
    "    f\"Service description:\\n{service_description}\\n\\n\"\n",
    "    \"Output only the YAML for both resources, separated by '---'.\"\n",
    ")"
   ]
  },
  {
   "cell_type": "code",
   "execution_count": 20,
   "id": "4fe82285",
   "metadata": {},
   "outputs": [
    {
     "name": "stdout",
     "output_type": "stream",
     "text": [
      "Here are the generated Kubernetes Deployment and Service YAML:\n",
      "\n",
      "```\n",
      "---\n",
      "apiVersion: apps/v1\n",
      "kind: Deployment\n",
      "metadata:\n",
      "  name: webapp\n",
      "spec:\n",
      "  replicas: 3\n",
      "  selector:\n",
      "    matchLabels:\n",
      "      app: webapp\n",
      "  template:\n",
      "    metadata:\n",
      "      labels:\n",
      "        app: webapp\n",
      "    spec:\n",
      "      containers:\n",
      "      - image: nginx:1.25\n",
      "        name: webapp\n",
      "        env:\n",
      "        - name: ENVIRONMENT\n",
      "          value: production\n",
      "        - name: API_URL\n",
      "          value: https://api.example.com\n",
      "        ports:\n",
      "        - containerPort: 80\n",
      "\n",
      "---\n",
      "apiVersion: v1\n",
      "kind: Service\n",
      "metadata:\n",
      "  name: webapp\n",
      "spec:\n",
      "  selector:\n",
      "    app: webapp\n",
      "  ports:\n",
      "  - name: http\n",
      "    port: 80\n",
      "    targetPort: 80\n",
      "  type: LoadBalancer\n",
      "```\n",
      "\n",
      "Note that I've assumed a LoadBalancer service type to expose the service to the world. If you want to use a different service type (e.g., ClusterIP, NodePort), simply modify the `type` field accordingly.\n",
      "YAML saved to deployment_and_service.yaml\n"
     ]
    }
   ],
   "source": [
    "# Call Ollama API for YAML output\n",
    "OLLAMA_URL = \"http://localhost:11434/api/generate\"\n",
    "OLLAMA_MODEL = \"llama3\"\n",
    "\n",
    "payload = {\n",
    "    \"model\": OLLAMA_MODEL,\n",
    "    \"prompt\": prompt,\n",
    "    \"stream\": False\n",
    "}\n",
    "response = requests.post(OLLAMA_URL, json=payload)\n",
    "yaml_output = response.json().get(\"response\", \"No YAML received.\")\n",
    "\n",
    "# Print and save YAML output\n",
    "print(yaml_output)\n",
    "with open(\"deployment_and_service.yaml\", \"w\") as f:\n",
    "    f.write(yaml_output)\n",
    "print(\"YAML saved to deployment_and_service.yaml\")"
   ]
  },
  {
   "cell_type": "code",
   "execution_count": 23,
   "id": "6f71aa7c",
   "metadata": {},
   "outputs": [
    {
     "name": "stdout",
     "output_type": "stream",
     "text": [
      "YAML (only) saved to deployment_and_service.yaml\n",
      "YAML validation successful. Contains: 4 resources.\n"
     ]
    }
   ],
   "source": [
    "# (Optional) Validate YAML syntax\n",
    "# Extract only YAML blocks (between 'apiVersion:' or 'kind:' and '---' or end)\n",
    "def extract_yaml_blocks(yaml_text):\n",
    "    lines = yaml_text.splitlines()\n",
    "    blocks = []\n",
    "    current_block = []\n",
    "    in_yaml = False\n",
    "    for line in lines:\n",
    "        # Remove code fences and skip lines with backticks\n",
    "        if line.strip().startswith('```') or line.strip().endswith('```') or '`' in line:\n",
    "            continue\n",
    "        # Start of YAML block\n",
    "        if line.strip().startswith('apiVersion:') or line.strip().startswith('kind:'):\n",
    "            if current_block:\n",
    "                blocks.append('\\n'.join(current_block))\n",
    "                current_block = []\n",
    "            in_yaml = True\n",
    "        # End of YAML block (separator)\n",
    "        if in_yaml and line.strip() == '---':\n",
    "            blocks.append('\\n'.join(current_block))\n",
    "            current_block = []\n",
    "            in_yaml = False\n",
    "            continue\n",
    "        # Stop at the first non-YAML block after YAML (if LLM adds explanations at the end)\n",
    "        if in_yaml and (line.strip().startswith('*') or line.strip().startswith('#')):\n",
    "            break\n",
    "        if in_yaml:\n",
    "            current_block.append(line)\n",
    "    # Add last block if any\n",
    "    if current_block:\n",
    "        blocks.append('\\n'.join(current_block))\n",
    "    return '\\n---\\n'.join(blocks)\n",
    "\n",
    "yaml_only = extract_yaml_blocks(yaml_output)\n",
    "with open(\"deployment_and_service.yaml\", \"w\") as f:\n",
    "    f.write(yaml_only)\n",
    "print(\"YAML (only) saved to deployment_and_service.yaml\")\n",
    "\n",
    "# Validate YAML syntax\n",
    "try:\n",
    "    docs = list(yaml.safe_load_all(yaml_only))\n",
    "    print(\"YAML validation successful. Contains:\", len(docs), \"resources.\")\n",
    "except Exception as e:\n",
    "    print(\"YAML validation failed:\", e)"
   ]
  }
 ],
 "metadata": {
  "kernelspec": {
   "display_name": ".venv",
   "language": "python",
   "name": "python3"
  },
  "language_info": {
   "codemirror_mode": {
    "name": "ipython",
    "version": 3
   },
   "file_extension": ".py",
   "mimetype": "text/x-python",
   "name": "python",
   "nbconvert_exporter": "python",
   "pygments_lexer": "ipython3",
   "version": "3.12.2"
  }
 },
 "nbformat": 4,
 "nbformat_minor": 5
}
